{
 "cells": [
  {
   "cell_type": "code",
   "execution_count": 1,
   "metadata": {},
   "outputs": [
    {
     "name": "stdout",
     "output_type": "stream",
     "text": [
      "Model loading completed\n",
      "Episode reward : 248.297\n"
     ]
    },
    {
     "data": {
      "image/png": "[encoded data removed]",
      "text/plain": [
       "<Figure size 432x288 with 1 Axes>"
      ]
     },
     "metadata": {
      "needs_background": "light"
     },
     "output_type": "display_data"
    }
   ],
   "source": [
    "# Check actual play of trained SAC\n",
    "import torch\n",
    "import SAC_pytorch as SAC\n",
    "import gym\n",
    "from pyvirtualdisplay import Display\n",
    "import matplotlib.pyplot as plt\n",
    "\n",
    "virtual_display = Display(visible=0, size=(1400, 900))\n",
    "virtual_display.start()\n",
    "\n",
    "cuda = torch.cuda.is_available()\n",
    "device = torch.device(\"cuda:3\" if cuda else \"cpu\")\n",
    "\n",
    "SAC = SAC.Trainer(actor_dims=[128,128], critic_dims=[128,128], game_name=\"LunarLanderContinuous-v2\", \n",
    "                    path=\"./SAC_LunarLanderConti.pt\", load_model=False, batch_size=128, device=device)\n",
    "\n",
    "# Play game & save game play as .gif file\n",
    "SAC.play(path=\"./SAC_LunarLanderConti.pt\", save_path=\"./\", num_episodes=1)"
   ]
  }
 ],
 "metadata": {
  "interpreter": {
   "hash": "ed8ed7c6c71debe05836a49adcde0f2eef8356cc32e18ef3b39c32d7b5bb3074"
  },
  "kernelspec": {
   "display_name": "Python 3.7.11 64-bit ('test': conda)",
   "name": "python3"
  },
  "language_info": {
   "codemirror_mode": {
    "name": "ipython",
    "version": 3
   },
   "file_extension": ".py",
   "mimetype": "text/x-python",
   "name": "python",
   "nbconvert_exporter": "python",
   "pygments_lexer": "ipython3",
   "version": "3.7.11"
  },
  "orig_nbformat": 4
 },
 "nbformat": 4,
 "nbformat_minor": 2
}
