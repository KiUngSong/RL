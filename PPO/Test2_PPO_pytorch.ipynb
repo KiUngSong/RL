{
 "cells": [
  {
   "cell_type": "code",
   "execution_count": 1,
   "source": [
    "import torch\n",
    "import PPO_pytorch as PPO\n",
    "import gym\n",
    "\n",
    "cuda = torch.cuda.is_available()\n",
    "device = torch.device(\"cuda:1\" if cuda else \"cpu\")\n",
    "\n",
    "PPO = PPO.Trainer(actor_dims=[128,128,128], critic_dims=[128,128,128], game_name=\"LunarLanderContinuous-v2\", is_conti=True, \n",
    "                    path=\"/home/sk851/PPO_LunarLanderConti.pt\", load_model=False, device=device, maxframe=1000000, \n",
    "                    verbose_freq=500, eps_clip=0.5, K_epoch=5, len_traj=64, size_batch=16, num_batch=32, lr=0.001)\n",
    "\n",
    "PPO.train()"
   ],
   "outputs": [
    {
     "output_type": "display_data",
     "data": {
      "application/vnd.jupyter.widget-view+json": {
       "version_major": 2,
       "version_minor": 0,
       "model_id": "743fa901d7104e2da16797b6b29ce5dc"
      },
      "text/plain": [
       "  0%|          | 0/1000000 [00:00<?, ?it/s]"
      ]
     },
     "metadata": {}
    },
    {
     "output_type": "stream",
     "name": "stdout",
     "text": [
      "Mean score over last 500 episodes was -200.218\n",
      "Mean score over last 500 episodes was -126.530\n",
      "Mean score over last 500 episodes was -106.386\n",
      "Mean score over last 500 episodes was -25.435\n",
      "Policy weight was saved\n",
      "Mean score over last 500 episodes was 184.941\n",
      "Mean score over last 500 episodes was 163.872\n",
      "Policy weight was saved\n"
     ]
    }
   ],
   "metadata": {}
  },
  {
   "cell_type": "code",
   "execution_count": 2,
   "source": [
    "# Check actual play of trained DQN\n",
    "# Start virtual display to enable env.render() with remote server connection\n",
    "from pyvirtualdisplay import Display\n",
    "import matplotlib.pyplot as plt\n",
    "\n",
    "virtual_display = Display(visible=0, size=(1400, 900))\n",
    "virtual_display.start()\n",
    "\n",
    "# Play game & save game play as .gif file\n",
    "PPO.play(path='/home/sk851/PPO_LunarLanderConti.pt', save_path='/home/sk851', num_episodes=1)"
   ],
   "outputs": [
    {
     "output_type": "stream",
     "name": "stdout",
     "text": [
      "Model loading completed\n",
      "Episode reward : 262.465\n"
     ]
    },
    {
     "output_type": "display_data",
     "data": {
      "image/png": "[encoded data removed]",
      "text/plain": [
       "<Figure size 432x288 with 1 Axes>"
      ]
     },
     "metadata": {
      "needs_background": "light"
     }
    }
   ],
   "metadata": {}
  }
 ],
 "metadata": {
  "orig_nbformat": 4,
  "language_info": {
   "name": "python",
   "version": "3.7.11",
   "mimetype": "text/x-python",
   "codemirror_mode": {
    "name": "ipython",
    "version": 3
   },
   "pygments_lexer": "ipython3",
   "nbconvert_exporter": "python",
   "file_extension": ".py"
  },
  "kernelspec": {
   "name": "python3",
   "display_name": "Python 3.7.11 64-bit ('test': conda)"
  },
  "interpreter": {
   "hash": "613189b9447b40282886222006ee8b14fcbe993fdc86fe1dc10aaac86284b79c"
  }
 },
 "nbformat": 4,
 "nbformat_minor": 2
}