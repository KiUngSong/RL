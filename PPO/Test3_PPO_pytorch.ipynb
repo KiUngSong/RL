{
 "cells": [
  {
   "cell_type": "code",
   "execution_count": 1,
   "source": [
    "import torch\n",
    "import PPO_pytorch as PPO\n",
    "import gym\n",
    "\n",
    "cuda = torch.cuda.is_available()\n",
    "device = torch.device(\"cuda:3\" if cuda else \"cpu\")\n",
    "\n",
    "PPO = PPO.Trainer(actor_dims=[128,128], critic_dims=[128,128], game_name=\"LunarLander-v2\", is_conti=False, \n",
    "                    path=\"/home/sk851/PPO_LunarLander.pt\", load_model=False, device=device, maxframe=1000000, \n",
    "                    verbose_freq=100, eps_clip=0.5, K_epoch=5, len_traj=4, size_batch=8, num_batch=4, lr=0.001)\n",
    "\n",
    "PPO.train()"
   ],
   "outputs": [
    {
     "output_type": "display_data",
     "data": {
      "application/vnd.jupyter.widget-view+json": {
       "version_major": 2,
       "version_minor": 0,
       "model_id": "b5a2e31d1f8c43399fc9ebbcd2baf01c"
      },
      "text/plain": [
       "  0%|          | 0/1000000 [00:00<?, ?it/s]"
      ]
     },
     "metadata": {}
    },
    {
     "output_type": "stream",
     "name": "stdout",
     "text": [
      "Mean score over last 100 episodes was -243.059\n",
      "Mean score over last 100 episodes was -32.718\n",
      "Mean score over last 100 episodes was -58.226\n",
      "Mean score over last 100 episodes was -24.095\n",
      "Mean score over last 100 episodes was 40.323\n",
      "Mean score over last 100 episodes was -42.318\n",
      "Mean score over last 100 episodes was 1.966\n",
      "Policy weight was saved\n",
      "Mean score over last 100 episodes was -38.216\n",
      "Mean score over last 100 episodes was -50.805\n",
      "Mean score over last 100 episodes was -36.035\n",
      "Mean score over last 100 episodes was -10.948\n",
      "Mean score over last 100 episodes was 5.619\n",
      "Mean score over last 100 episodes was 9.056\n",
      "Policy weight was saved\n"
     ]
    }
   ],
   "metadata": {}
  },
  {
   "cell_type": "code",
   "execution_count": 2,
   "source": [
    "# Check actual play of trained DQN\n",
    "# Start virtual display to enable env.render() with remote server connection\n",
    "from pyvirtualdisplay import Display\n",
    "import matplotlib.pyplot as plt\n",
    "\n",
    "virtual_display = Display(visible=0, size=(1400, 900))\n",
    "virtual_display.start()\n",
    "\n",
    "# Play game & save game play as .gif file\n",
    "PPO.play(path='/home/sk851/PPO_LunarLander.pt', save_path='/home/sk851', num_episodes=1)"
   ],
   "outputs": [
    {
     "output_type": "stream",
     "name": "stdout",
     "text": [
      "Model loading completed\n",
      "Episode reward : 226.303\n"
     ]
    },
    {
     "output_type": "display_data",
     "data": {
      "image/png": "[encoded data removed]",
      "text/plain": [
       "<Figure size 432x288 with 1 Axes>"
      ]
     },
     "metadata": {
      "needs_background": "light"
     }
    }
   ],
   "metadata": {}
  }
 ],
 "metadata": {
  "orig_nbformat": 4,
  "language_info": {
   "name": "python",
   "version": "3.7.11",
   "mimetype": "text/x-python",
   "codemirror_mode": {
    "name": "ipython",
    "version": 3
   },
   "pygments_lexer": "ipython3",
   "nbconvert_exporter": "python",
   "file_extension": ".py"
  },
  "kernelspec": {
   "name": "python3",
   "display_name": "Python 3.7.11 64-bit ('test': conda)"
  },
  "interpreter": {
   "hash": "613189b9447b40282886222006ee8b14fcbe993fdc86fe1dc10aaac86284b79c"
  }
 },
 "nbformat": 4,
 "nbformat_minor": 2
}