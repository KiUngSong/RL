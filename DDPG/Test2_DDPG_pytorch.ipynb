{
 "cells": [
  {
   "cell_type": "code",
   "execution_count": 1,
   "source": [
    "import torch\n",
    "import DDPG_pytorch as DDPG\n",
    "import gym\n",
    "\n",
    "cuda = torch.cuda.is_available()\n",
    "device = torch.device(\"cuda:2\" if cuda else \"cpu\")\n",
    "\n",
    "# Can play only continous domain games\n",
    "DDPG = DDPG.Trainer(actor_dims=[128,128], critic_dims=[128,128], game_name=\"LunarLanderContinuous-v2\", path='/home/sk851/DDPG_LunarLanderConti.pt', \n",
    "                    load_model=False, batch_size=128, device=device, buffer_size=100000, maxframe=300000, verbose_freq=100, \n",
    "                    tau=0.1, tau_ratio=1, action_ratio=1)\n",
    "\n",
    "DDPG.train()"
   ],
   "outputs": [
    {
     "output_type": "display_data",
     "data": {
      "application/vnd.jupyter.widget-view+json": {
       "version_major": 2,
       "version_minor": 0,
       "model_id": "9b7507d70dd14552abac83aaea517e1b"
      },
      "text/plain": [
       "  0%|          | 0/300000 [00:00<?, ?it/s]"
      ]
     },
     "metadata": {}
    },
    {
     "output_type": "stream",
     "name": "stdout",
     "text": [
      "Mean score over last 100 episodes was -191.914\n",
      "Mean score over last 100 episodes was -87.500\n",
      "Mean score over last 100 episodes was -15.075\n",
      "Mean score over last 100 episodes was 21.823\n",
      "Policy weight was saved\n",
      "Mean score over last 100 episodes was 49.473\n",
      "Mean score over last 100 episodes was 74.892\n",
      "Mean score over last 100 episodes was 93.138\n",
      "Mean score over last 100 episodes was 95.834\n",
      "Mean score over last 100 episodes was 107.524\n",
      "Policy weight was saved\n"
     ]
    }
   ],
   "metadata": {}
  },
  {
   "cell_type": "code",
   "execution_count": 2,
   "source": [
    "# Check actual play of trained DQN\n",
    "# Start virtual display to enable env.render() with remote server connection\n",
    "from pyvirtualdisplay import Display\n",
    "import matplotlib.pyplot as plt\n",
    "\n",
    "virtual_display = Display(visible=0, size=(1400, 900))\n",
    "virtual_display.start()\n",
    "\n",
    "# Play game & save game play as .gif file\n",
    "DDPG.play(path='/home/sk851/DDPG_LunarLanderConti.pt', save_path='/home/sk851', num_episodes=2)"
   ],
   "outputs": [
    {
     "output_type": "stream",
     "name": "stdout",
     "text": [
      "Model loading completed\n",
      "Episode reward : 252.260\n",
      "Episode reward : 231.633\n"
     ]
    },
    {
     "output_type": "display_data",
     "data": {
      "image/png": "[encoded data removed]",
      "text/plain": [
       "<Figure size 432x288 with 1 Axes>"
      ]
     },
     "metadata": {
      "needs_background": "light"
     }
    }
   ],
   "metadata": {}
  }
 ],
 "metadata": {
  "orig_nbformat": 4,
  "kernelspec": {
   "name": "python3",
   "display_name": "Python 3.7.11 64-bit ('test': conda)"
  },
  "interpreter": {
   "hash": "613189b9447b40282886222006ee8b14fcbe993fdc86fe1dc10aaac86284b79c"
  },
  "language_info": {
   "name": "python",
   "version": "3.7.11",
   "mimetype": "text/x-python",
   "codemirror_mode": {
    "name": "ipython",
    "version": 3
   },
   "pygments_lexer": "ipython3",
   "nbconvert_exporter": "python",
   "file_extension": ".py"
  }
 },
 "nbformat": 4,
 "nbformat_minor": 2
}