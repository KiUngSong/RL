{
 "cells": [
  {
   "cell_type": "code",
   "execution_count": 1,
   "source": [
    "import torch\n",
    "import DDPG_pytorch as DDPG\n",
    "import gym\n",
    "\n",
    "cuda = torch.cuda.is_available()\n",
    "device = torch.device(\"cuda:2\" if cuda else \"cpu\")\n",
    "\n",
    "# Can play only continous domain games\n",
    "DDPG = DDPG.Trainer(actor_dims=[64,64], critic_dims=[64,64], game_name=\"MountainCarContinuous-v0\", path='/home/sk851/DDPG_MountainCarConti.pt', \n",
    "                    load_model=False, batch_size=128, device=device, buffer_size=50000, maxframe=100000, verbose_freq=20, \n",
    "                    tau=0.1, tau_ratio=2, action_ratio=0.25)\n",
    "\n",
    "DDPG.train()"
   ],
   "outputs": [
    {
     "output_type": "display_data",
     "data": {
      "application/vnd.jupyter.widget-view+json": {
       "version_major": 2,
       "version_minor": 0,
       "model_id": "b63ee5c78fdf45a8a00964b52ab03d1c"
      },
      "text/plain": [
       "  0%|          | 0/100000 [00:00<?, ?it/s]"
      ]
     },
     "metadata": {}
    },
    {
     "output_type": "stream",
     "name": "stdout",
     "text": [
      "Mean score over last 20 episodes was 1.418\n",
      "Mean score over last 20 episodes was -1.209\n",
      "Mean score over last 20 episodes was 0.784\n",
      "Mean score over last 20 episodes was 4.470\n",
      "Mean score over last 20 episodes was 3.557\n",
      "Policy weight was saved\n",
      "Mean score over last 20 episodes was 12.619\n",
      "Mean score over last 20 episodes was 19.850\n",
      "Mean score over last 20 episodes was 27.171\n",
      "Mean score over last 20 episodes was 33.416\n",
      "Mean score over last 20 episodes was 37.899\n",
      "Mean score over last 20 episodes was 42.508\n",
      "Mean score over last 20 episodes was 46.342\n",
      "Policy weight was saved\n"
     ]
    }
   ],
   "metadata": {}
  },
  {
   "cell_type": "code",
   "execution_count": 2,
   "source": [
    "# Check actual play of trained DQN\n",
    "# Start virtual display to enable env.render() with remote server connection\n",
    "from pyvirtualdisplay import Display\n",
    "import matplotlib.pyplot as plt\n",
    "\n",
    "virtual_display = Display(visible=0, size=(1400, 900))\n",
    "virtual_display.start()\n",
    "\n",
    "# Play game & save game play as .gif file\n",
    "DDPG.play(path='/home/sk851/DDPG_MountainCarConti.pt', save_path='/home/sk851', num_episodes=2)"
   ],
   "outputs": [
    {
     "output_type": "stream",
     "name": "stdout",
     "text": [
      "Model loading completed\n",
      "Episode reward : 93.487\n",
      "Episode reward : 93.502\n"
     ]
    },
    {
     "output_type": "display_data",
     "data": {
      "image/png": "[encoded data removed]",
      "text/plain": [
       "<Figure size 432x288 with 1 Axes>"
      ]
     },
     "metadata": {
      "needs_background": "light"
     }
    }
   ],
   "metadata": {}
  }
 ],
 "metadata": {
  "orig_nbformat": 4,
  "kernelspec": {
   "name": "python3",
   "display_name": "Python 3.7.11 64-bit ('test': conda)"
  },
  "interpreter": {
   "hash": "613189b9447b40282886222006ee8b14fcbe993fdc86fe1dc10aaac86284b79c"
  },
  "language_info": {
   "name": "python",
   "version": "3.7.11",
   "mimetype": "text/x-python",
   "codemirror_mode": {
    "name": "ipython",
    "version": 3
   },
   "pygments_lexer": "ipython3",
   "nbconvert_exporter": "python",
   "file_extension": ".py"
  }
 },
 "nbformat": 4,
 "nbformat_minor": 2
}